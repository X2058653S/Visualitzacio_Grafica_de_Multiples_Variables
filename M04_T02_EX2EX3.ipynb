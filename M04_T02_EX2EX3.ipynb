{
 "cells": [
  {
   "cell_type": "markdown",
   "id": "d5639e05",
   "metadata": {},
   "source": [
    "# <SPAN style=color:darkblue>EXERCICI 2</SPAN>\n",
    "# <SPAN style=color:darkblue>PRE-PROCESADO Y ADECUACIÓN DEL DATASET MOVIES.DAT</SPAN>"
   ]
  },
  {
   "cell_type": "code",
   "execution_count": 420,
   "id": "9d681be8",
   "metadata": {},
   "outputs": [],
   "source": [
    "\n",
    "import numpy as np\n",
    "import pandas as pd\n",
    "import matplotlib.pyplot as plt\n",
    "import seaborn as sns\n",
    "import warnings\n",
    "\n",
    "warnings.filterwarnings('ignore')"
   ]
  },
  {
   "cell_type": "markdown",
   "id": "4665adba",
   "metadata": {},
   "source": [
    "Abrimos el fichero"
   ]
  },
  {
   "cell_type": "code",
   "execution_count": 421,
   "id": "bc7a23ba",
   "metadata": {
    "scrolled": true
   },
   "outputs": [
    {
     "data": {
      "text/html": [
       "<div>\n",
       "<style scoped>\n",
       "    .dataframe tbody tr th:only-of-type {\n",
       "        vertical-align: middle;\n",
       "    }\n",
       "\n",
       "    .dataframe tbody tr th {\n",
       "        vertical-align: top;\n",
       "    }\n",
       "\n",
       "    .dataframe thead th {\n",
       "        text-align: right;\n",
       "    }\n",
       "</style>\n",
       "<table border=\"1\" class=\"dataframe\">\n",
       "  <thead>\n",
       "    <tr style=\"text-align: right;\">\n",
       "      <th></th>\n",
       "      <th>Index</th>\n",
       "      <th>Movie</th>\n",
       "      <th>Movie_genre</th>\n",
       "    </tr>\n",
       "  </thead>\n",
       "  <tbody>\n",
       "    <tr>\n",
       "      <th>0</th>\n",
       "      <td>1</td>\n",
       "      <td>Toy Story (1995)</td>\n",
       "      <td>Animation|Children's|Comedy</td>\n",
       "    </tr>\n",
       "    <tr>\n",
       "      <th>1</th>\n",
       "      <td>2</td>\n",
       "      <td>Jumanji (1995)</td>\n",
       "      <td>Adventure|Children's|Fantasy</td>\n",
       "    </tr>\n",
       "    <tr>\n",
       "      <th>2</th>\n",
       "      <td>3</td>\n",
       "      <td>Grumpier Old Men (1995)</td>\n",
       "      <td>Comedy|Romance</td>\n",
       "    </tr>\n",
       "    <tr>\n",
       "      <th>3</th>\n",
       "      <td>4</td>\n",
       "      <td>Waiting to Exhale (1995)</td>\n",
       "      <td>Comedy|Drama</td>\n",
       "    </tr>\n",
       "    <tr>\n",
       "      <th>4</th>\n",
       "      <td>5</td>\n",
       "      <td>Father of the Bride Part II (1995)</td>\n",
       "      <td>Comedy</td>\n",
       "    </tr>\n",
       "  </tbody>\n",
       "</table>\n",
       "</div>"
      ],
      "text/plain": [
       "   Index                               Movie                   Movie_genre\n",
       "0      1                    Toy Story (1995)   Animation|Children's|Comedy\n",
       "1      2                      Jumanji (1995)  Adventure|Children's|Fantasy\n",
       "2      3             Grumpier Old Men (1995)                Comedy|Romance\n",
       "3      4            Waiting to Exhale (1995)                  Comedy|Drama\n",
       "4      5  Father of the Bride Part II (1995)                        Comedy"
      ]
     },
     "execution_count": 421,
     "metadata": {},
     "output_type": "execute_result"
    }
   ],
   "source": [
    "df=pd.read_csv('movies.dat', sep='::', encoding='latin-1',  names=['Index','Movie','Movie_genre'])\n",
    "df.head()"
   ]
  },
  {
   "cell_type": "code",
   "execution_count": 422,
   "id": "5c9e0a55",
   "metadata": {
    "scrolled": false
   },
   "outputs": [
    {
     "name": "stdout",
     "output_type": "stream",
     "text": [
      "<class 'pandas.core.frame.DataFrame'>\n",
      "RangeIndex: 3883 entries, 0 to 3882\n",
      "Data columns (total 3 columns):\n",
      " #   Column       Non-Null Count  Dtype \n",
      "---  ------       --------------  ----- \n",
      " 0   Index        3883 non-null   int64 \n",
      " 1   Movie        3883 non-null   object\n",
      " 2   Movie_genre  3883 non-null   object\n",
      "dtypes: int64(1), object(2)\n",
      "memory usage: 91.1+ KB\n"
     ]
    }
   ],
   "source": [
    "df.info()"
   ]
  },
  {
   "cell_type": "markdown",
   "id": "bf26d60c",
   "metadata": {},
   "source": [
    "El dataset tiene 3883 filas y 3 columnas"
   ]
  },
  {
   "cell_type": "markdown",
   "id": "eb0cab7c",
   "metadata": {},
   "source": [
    "Eliminamos del dataframe los carácteres que nos pueden suponer un problema a la hora de manejar la información"
   ]
  },
  {
   "cell_type": "code",
   "execution_count": 430,
   "id": "beb3eab3",
   "metadata": {
    "scrolled": false
   },
   "outputs": [
    {
     "data": {
      "text/html": [
       "<div>\n",
       "<style scoped>\n",
       "    .dataframe tbody tr th:only-of-type {\n",
       "        vertical-align: middle;\n",
       "    }\n",
       "\n",
       "    .dataframe tbody tr th {\n",
       "        vertical-align: top;\n",
       "    }\n",
       "\n",
       "    .dataframe thead th {\n",
       "        text-align: right;\n",
       "    }\n",
       "</style>\n",
       "<table border=\"1\" class=\"dataframe\">\n",
       "  <thead>\n",
       "    <tr style=\"text-align: right;\">\n",
       "      <th></th>\n",
       "      <th>Index</th>\n",
       "      <th>Movie</th>\n",
       "      <th>Movie_genre</th>\n",
       "    </tr>\n",
       "  </thead>\n",
       "  <tbody>\n",
       "    <tr>\n",
       "      <th>0</th>\n",
       "      <td>1</td>\n",
       "      <td>Toy Story (1995)</td>\n",
       "      <td>Animation|Childrens|Comedy</td>\n",
       "    </tr>\n",
       "    <tr>\n",
       "      <th>1</th>\n",
       "      <td>2</td>\n",
       "      <td>Jumanji (1995)</td>\n",
       "      <td>Adventure|Childrens|Fantasy</td>\n",
       "    </tr>\n",
       "    <tr>\n",
       "      <th>2</th>\n",
       "      <td>3</td>\n",
       "      <td>Grumpier Old Men (1995)</td>\n",
       "      <td>Comedy|Romance</td>\n",
       "    </tr>\n",
       "    <tr>\n",
       "      <th>3</th>\n",
       "      <td>4</td>\n",
       "      <td>Waiting to Exhale (1995)</td>\n",
       "      <td>Comedy|Drama</td>\n",
       "    </tr>\n",
       "    <tr>\n",
       "      <th>4</th>\n",
       "      <td>5</td>\n",
       "      <td>Father of the Bride Part II (1995)</td>\n",
       "      <td>Comedy</td>\n",
       "    </tr>\n",
       "  </tbody>\n",
       "</table>\n",
       "</div>"
      ],
      "text/plain": [
       "   Index                               Movie                  Movie_genre\n",
       "0      1                    Toy Story (1995)   Animation|Childrens|Comedy\n",
       "1      2                      Jumanji (1995)  Adventure|Childrens|Fantasy\n",
       "2      3             Grumpier Old Men (1995)               Comedy|Romance\n",
       "3      4            Waiting to Exhale (1995)                 Comedy|Drama\n",
       "4      5  Father of the Bride Part II (1995)                       Comedy"
      ]
     },
     "execution_count": 430,
     "metadata": {},
     "output_type": "execute_result"
    }
   ],
   "source": [
    "df.replace('[\\\"\\',]','', regex=True, inplace=True) \n",
    "df.head()"
   ]
  },
  {
   "cell_type": "markdown",
   "id": "9be04f7a",
   "metadata": {},
   "source": [
    "## <span style=color:darkgreen>CREAMOS LA COLUMNA 'YEAR'</span>"
   ]
  },
  {
   "cell_type": "code",
   "execution_count": 431,
   "id": "13452218",
   "metadata": {
    "scrolled": true
   },
   "outputs": [
    {
     "data": {
      "text/html": [
       "<div>\n",
       "<style scoped>\n",
       "    .dataframe tbody tr th:only-of-type {\n",
       "        vertical-align: middle;\n",
       "    }\n",
       "\n",
       "    .dataframe tbody tr th {\n",
       "        vertical-align: top;\n",
       "    }\n",
       "\n",
       "    .dataframe thead th {\n",
       "        text-align: right;\n",
       "    }\n",
       "</style>\n",
       "<table border=\"1\" class=\"dataframe\">\n",
       "  <thead>\n",
       "    <tr style=\"text-align: right;\">\n",
       "      <th></th>\n",
       "      <th>Year</th>\n",
       "    </tr>\n",
       "  </thead>\n",
       "  <tbody>\n",
       "    <tr>\n",
       "      <th>0</th>\n",
       "      <td>1995</td>\n",
       "    </tr>\n",
       "    <tr>\n",
       "      <th>1</th>\n",
       "      <td>1995</td>\n",
       "    </tr>\n",
       "    <tr>\n",
       "      <th>2</th>\n",
       "      <td>1995</td>\n",
       "    </tr>\n",
       "    <tr>\n",
       "      <th>3</th>\n",
       "      <td>1995</td>\n",
       "    </tr>\n",
       "    <tr>\n",
       "      <th>4</th>\n",
       "      <td>1995</td>\n",
       "    </tr>\n",
       "  </tbody>\n",
       "</table>\n",
       "</div>"
      ],
      "text/plain": [
       "   Year\n",
       "0  1995\n",
       "1  1995\n",
       "2  1995\n",
       "3  1995\n",
       "4  1995"
      ]
     },
     "execution_count": 431,
     "metadata": {},
     "output_type": "execute_result"
    }
   ],
   "source": [
    "df_1 = pd.DataFrame(df['Movie'].str[-5:-1]).rename(\n",
    "    columns={'Movie':'Year'})\n",
    "df_1.head()"
   ]
  },
  {
   "cell_type": "markdown",
   "id": "dffc9b13",
   "metadata": {},
   "source": [
    "## <span style=color:darkgreen>CREAMOS LA COLUMNA 'MOVIE GENRE'</span>"
   ]
  },
  {
   "cell_type": "code",
   "execution_count": 432,
   "id": "1fe67239",
   "metadata": {
    "scrolled": false
   },
   "outputs": [
    {
     "data": {
      "text/html": [
       "<div>\n",
       "<style scoped>\n",
       "    .dataframe tbody tr th:only-of-type {\n",
       "        vertical-align: middle;\n",
       "    }\n",
       "\n",
       "    .dataframe tbody tr th {\n",
       "        vertical-align: top;\n",
       "    }\n",
       "\n",
       "    .dataframe thead th {\n",
       "        text-align: right;\n",
       "    }\n",
       "</style>\n",
       "<table border=\"1\" class=\"dataframe\">\n",
       "  <thead>\n",
       "    <tr style=\"text-align: right;\">\n",
       "      <th></th>\n",
       "      <th>Movie</th>\n",
       "    </tr>\n",
       "  </thead>\n",
       "  <tbody>\n",
       "    <tr>\n",
       "      <th>0</th>\n",
       "      <td>Toy Story</td>\n",
       "    </tr>\n",
       "    <tr>\n",
       "      <th>1</th>\n",
       "      <td>Jumanji</td>\n",
       "    </tr>\n",
       "    <tr>\n",
       "      <th>2</th>\n",
       "      <td>Grumpier Old Men</td>\n",
       "    </tr>\n",
       "    <tr>\n",
       "      <th>3</th>\n",
       "      <td>Waiting to Exhale</td>\n",
       "    </tr>\n",
       "    <tr>\n",
       "      <th>4</th>\n",
       "      <td>Father of the Bride Part II</td>\n",
       "    </tr>\n",
       "  </tbody>\n",
       "</table>\n",
       "</div>"
      ],
      "text/plain": [
       "                          Movie\n",
       "0                    Toy Story \n",
       "1                      Jumanji \n",
       "2             Grumpier Old Men \n",
       "3            Waiting to Exhale \n",
       "4  Father of the Bride Part II "
      ]
     },
     "execution_count": 432,
     "metadata": {},
     "output_type": "execute_result"
    }
   ],
   "source": [
    "df_2=pd.DataFrame(df['Movie'].str[:-6])\n",
    "df_2.head()"
   ]
  },
  {
   "cell_type": "markdown",
   "id": "06ace207",
   "metadata": {},
   "source": [
    "## <span style=color:darkgreen>CREAMOS LAS COLUMNAS 'GENRE'</span>"
   ]
  },
  {
   "cell_type": "code",
   "execution_count": 433,
   "id": "675eefcf",
   "metadata": {},
   "outputs": [
    {
     "data": {
      "text/plain": [
       "301"
      ]
     },
     "execution_count": 433,
     "metadata": {},
     "output_type": "execute_result"
    }
   ],
   "source": [
    "df['Movie_genre'].nunique()"
   ]
  },
  {
   "cell_type": "markdown",
   "id": "83c79243",
   "metadata": {},
   "source": [
    "Detectamos que el género de la pélicula es en realidad una composición de varios géneros, ya que una película puede pertenecer a varios géneros a la vez. La asignación del género se realiza por orden alfabético, es decir, no hay un criterio que de los géneros imputados permita determinar uno más representativo que el otro.\n",
    "\n",
    "Debemos quedarnos con un único género por película."
   ]
  },
  {
   "cell_type": "code",
   "execution_count": 435,
   "id": "d9a9b0ea",
   "metadata": {
    "scrolled": true
   },
   "outputs": [
    {
     "data": {
      "text/html": [
       "<div>\n",
       "<style scoped>\n",
       "    .dataframe tbody tr th:only-of-type {\n",
       "        vertical-align: middle;\n",
       "    }\n",
       "\n",
       "    .dataframe tbody tr th {\n",
       "        vertical-align: top;\n",
       "    }\n",
       "\n",
       "    .dataframe thead th {\n",
       "        text-align: right;\n",
       "    }\n",
       "</style>\n",
       "<table border=\"1\" class=\"dataframe\">\n",
       "  <thead>\n",
       "    <tr style=\"text-align: right;\">\n",
       "      <th></th>\n",
       "      <th>0</th>\n",
       "      <th>1</th>\n",
       "      <th>2</th>\n",
       "      <th>3</th>\n",
       "      <th>4</th>\n",
       "      <th>5</th>\n",
       "    </tr>\n",
       "  </thead>\n",
       "  <tbody>\n",
       "    <tr>\n",
       "      <th>0</th>\n",
       "      <td>Animation</td>\n",
       "      <td>Childrens</td>\n",
       "      <td>Comedy</td>\n",
       "      <td>None</td>\n",
       "      <td>None</td>\n",
       "      <td>None</td>\n",
       "    </tr>\n",
       "    <tr>\n",
       "      <th>1</th>\n",
       "      <td>Adventure</td>\n",
       "      <td>Childrens</td>\n",
       "      <td>Fantasy</td>\n",
       "      <td>None</td>\n",
       "      <td>None</td>\n",
       "      <td>None</td>\n",
       "    </tr>\n",
       "    <tr>\n",
       "      <th>2</th>\n",
       "      <td>Comedy</td>\n",
       "      <td>Romance</td>\n",
       "      <td>None</td>\n",
       "      <td>None</td>\n",
       "      <td>None</td>\n",
       "      <td>None</td>\n",
       "    </tr>\n",
       "    <tr>\n",
       "      <th>3</th>\n",
       "      <td>Comedy</td>\n",
       "      <td>Drama</td>\n",
       "      <td>None</td>\n",
       "      <td>None</td>\n",
       "      <td>None</td>\n",
       "      <td>None</td>\n",
       "    </tr>\n",
       "    <tr>\n",
       "      <th>4</th>\n",
       "      <td>Comedy</td>\n",
       "      <td>None</td>\n",
       "      <td>None</td>\n",
       "      <td>None</td>\n",
       "      <td>None</td>\n",
       "      <td>None</td>\n",
       "    </tr>\n",
       "  </tbody>\n",
       "</table>\n",
       "</div>"
      ],
      "text/plain": [
       "           0          1        2     3     4     5\n",
       "0  Animation  Childrens   Comedy  None  None  None\n",
       "1  Adventure  Childrens  Fantasy  None  None  None\n",
       "2     Comedy    Romance     None  None  None  None\n",
       "3     Comedy      Drama     None  None  None  None\n",
       "4     Comedy       None     None  None  None  None"
      ]
     },
     "execution_count": 435,
     "metadata": {},
     "output_type": "execute_result"
    }
   ],
   "source": [
    "df_3=df['Movie_genre'].str.split('|', expand=True)\n",
    "df_3.head()"
   ]
  },
  {
   "cell_type": "code",
   "execution_count": 436,
   "id": "dab129af",
   "metadata": {
    "scrolled": true
   },
   "outputs": [
    {
     "name": "stdout",
     "output_type": "stream",
     "text": [
      "<class 'pandas.core.frame.DataFrame'>\n",
      "RangeIndex: 3883 entries, 0 to 3882\n",
      "Data columns (total 6 columns):\n",
      " #   Column  Non-Null Count  Dtype \n",
      "---  ------  --------------  ----- \n",
      " 0   0       3883 non-null   object\n",
      " 1   1       1858 non-null   object\n",
      " 2   2       536 non-null    object\n",
      " 3   3       115 non-null    object\n",
      " 4   4       15 non-null     object\n",
      " 5   5       1 non-null      object\n",
      "dtypes: object(6)\n",
      "memory usage: 182.1+ KB\n"
     ]
    }
   ],
   "source": [
    "df_3.info()"
   ]
  },
  {
   "cell_type": "markdown",
   "id": "bb12e0e1",
   "metadata": {},
   "source": [
    "Constatamos que 1858 de las 3883 películas tienen más de un género asignado."
   ]
  },
  {
   "cell_type": "code",
   "execution_count": 437,
   "id": "a391d2a5",
   "metadata": {
    "scrolled": false
   },
   "outputs": [
    {
     "data": {
      "text/html": [
       "<div>\n",
       "<style scoped>\n",
       "    .dataframe tbody tr th:only-of-type {\n",
       "        vertical-align: middle;\n",
       "    }\n",
       "\n",
       "    .dataframe tbody tr th {\n",
       "        vertical-align: top;\n",
       "    }\n",
       "\n",
       "    .dataframe thead th {\n",
       "        text-align: right;\n",
       "    }\n",
       "</style>\n",
       "<table border=\"1\" class=\"dataframe\">\n",
       "  <thead>\n",
       "    <tr style=\"text-align: right;\">\n",
       "      <th></th>\n",
       "      <th>A</th>\n",
       "      <th>B</th>\n",
       "      <th>C</th>\n",
       "      <th>D</th>\n",
       "      <th>E</th>\n",
       "      <th>F</th>\n",
       "    </tr>\n",
       "  </thead>\n",
       "  <tbody>\n",
       "    <tr>\n",
       "      <th>0</th>\n",
       "      <td>Animation</td>\n",
       "      <td>Childrens</td>\n",
       "      <td>Comedy</td>\n",
       "      <td>None</td>\n",
       "      <td>None</td>\n",
       "      <td>None</td>\n",
       "    </tr>\n",
       "    <tr>\n",
       "      <th>1</th>\n",
       "      <td>Adventure</td>\n",
       "      <td>Childrens</td>\n",
       "      <td>Fantasy</td>\n",
       "      <td>None</td>\n",
       "      <td>None</td>\n",
       "      <td>None</td>\n",
       "    </tr>\n",
       "    <tr>\n",
       "      <th>2</th>\n",
       "      <td>Comedy</td>\n",
       "      <td>Romance</td>\n",
       "      <td>None</td>\n",
       "      <td>None</td>\n",
       "      <td>None</td>\n",
       "      <td>None</td>\n",
       "    </tr>\n",
       "    <tr>\n",
       "      <th>3</th>\n",
       "      <td>Comedy</td>\n",
       "      <td>Drama</td>\n",
       "      <td>None</td>\n",
       "      <td>None</td>\n",
       "      <td>None</td>\n",
       "      <td>None</td>\n",
       "    </tr>\n",
       "    <tr>\n",
       "      <th>4</th>\n",
       "      <td>Comedy</td>\n",
       "      <td>None</td>\n",
       "      <td>None</td>\n",
       "      <td>None</td>\n",
       "      <td>None</td>\n",
       "      <td>None</td>\n",
       "    </tr>\n",
       "  </tbody>\n",
       "</table>\n",
       "</div>"
      ],
      "text/plain": [
       "           A          B        C     D     E     F\n",
       "0  Animation  Childrens   Comedy  None  None  None\n",
       "1  Adventure  Childrens  Fantasy  None  None  None\n",
       "2     Comedy    Romance     None  None  None  None\n",
       "3     Comedy      Drama     None  None  None  None\n",
       "4     Comedy       None     None  None  None  None"
      ]
     },
     "execution_count": 437,
     "metadata": {},
     "output_type": "execute_result"
    }
   ],
   "source": [
    "df_3.columns=['A','B','C','D','E','F']\n",
    "df_3.head()"
   ]
  },
  {
   "cell_type": "code",
   "execution_count": 438,
   "id": "754337bb",
   "metadata": {},
   "outputs": [],
   "source": [
    "columnas=['A','B','C','D','E','F']"
   ]
  },
  {
   "cell_type": "code",
   "execution_count": 439,
   "id": "ae346c39",
   "metadata": {},
   "outputs": [
    {
     "data": {
      "text/plain": [
       "Action          503\n",
       "Adventure       155\n",
       "Animation        90\n",
       "Childrens        89\n",
       "Comedy         1024\n",
       "Crime           131\n",
       "Documentary     123\n",
       "Drama          1176\n",
       "Fantasy           2\n",
       "Film-Noir        25\n",
       "Horror          262\n",
       "Musical          25\n",
       "Mystery          36\n",
       "Romance          50\n",
       "Sci-Fi           46\n",
       "Thriller        101\n",
       "War              12\n",
       "Western          33\n",
       "Name: A, dtype: int64"
      ]
     },
     "execution_count": 439,
     "metadata": {},
     "output_type": "execute_result"
    }
   ],
   "source": [
    "df_3['A'].value_counts().sort_index()"
   ]
  },
  {
   "cell_type": "code",
   "execution_count": 440,
   "id": "ac386b40",
   "metadata": {
    "scrolled": true
   },
   "outputs": [
    {
     "data": {
      "text/plain": [
       "Adventure      128\n",
       "Animation       12\n",
       "Childrens      147\n",
       "Comedy         129\n",
       "Crime           63\n",
       "Documentary      4\n",
       "Drama          381\n",
       "Fantasy         20\n",
       "Film-Noir       14\n",
       "Horror          71\n",
       "Musical         47\n",
       "Mystery         51\n",
       "Romance        327\n",
       "Sci-Fi         140\n",
       "Thriller       228\n",
       "War             78\n",
       "Western         18\n",
       "Name: B, dtype: int64"
      ]
     },
     "execution_count": 440,
     "metadata": {},
     "output_type": "execute_result"
    }
   ],
   "source": [
    "df_3['B'].value_counts().sort_index()"
   ]
  },
  {
   "cell_type": "code",
   "execution_count": 441,
   "id": "898f5e7d",
   "metadata": {
    "scrolled": true
   },
   "outputs": [
    {
     "data": {
      "text/html": [
       "<div>\n",
       "<style scoped>\n",
       "    .dataframe tbody tr th:only-of-type {\n",
       "        vertical-align: middle;\n",
       "    }\n",
       "\n",
       "    .dataframe tbody tr th {\n",
       "        vertical-align: top;\n",
       "    }\n",
       "\n",
       "    .dataframe thead th {\n",
       "        text-align: right;\n",
       "    }\n",
       "</style>\n",
       "<table border=\"1\" class=\"dataframe\">\n",
       "  <thead>\n",
       "    <tr style=\"text-align: right;\">\n",
       "      <th></th>\n",
       "      <th>A</th>\n",
       "      <th>B</th>\n",
       "      <th>C</th>\n",
       "      <th>D</th>\n",
       "      <th>E</th>\n",
       "      <th>F</th>\n",
       "    </tr>\n",
       "  </thead>\n",
       "  <tbody>\n",
       "    <tr>\n",
       "      <th>782</th>\n",
       "      <td>Fantasy</td>\n",
       "      <td>None</td>\n",
       "      <td>None</td>\n",
       "      <td>None</td>\n",
       "      <td>None</td>\n",
       "      <td>None</td>\n",
       "    </tr>\n",
       "  </tbody>\n",
       "</table>\n",
       "</div>"
      ],
      "text/plain": [
       "           A     B     C     D     E     F\n",
       "782  Fantasy  None  None  None  None  None"
      ]
     },
     "execution_count": 441,
     "metadata": {},
     "output_type": "execute_result"
    }
   ],
   "source": [
    "df_3[(df_3['A']=='Fantasy')&(df_3['B'].isnull())]"
   ]
  },
  {
   "cell_type": "markdown",
   "id": "30fd0292",
   "metadata": {},
   "source": [
    "Decidimos crear una columna que recoja el último género asignado por orden alfabético."
   ]
  },
  {
   "cell_type": "code",
   "execution_count": 442,
   "id": "90089517",
   "metadata": {},
   "outputs": [],
   "source": [
    "df_3['G']=df_3['F']"
   ]
  },
  {
   "cell_type": "code",
   "execution_count": 443,
   "id": "f0340e7b",
   "metadata": {},
   "outputs": [],
   "source": [
    "df_3.loc[df_3['G'].isnull()==True,'G']=df_3['E']"
   ]
  },
  {
   "cell_type": "code",
   "execution_count": 444,
   "id": "e5f43104",
   "metadata": {},
   "outputs": [],
   "source": [
    "df_3.loc[df_3['G'].isnull()==True,'G']=df_3['D']"
   ]
  },
  {
   "cell_type": "code",
   "execution_count": 445,
   "id": "a2890aab",
   "metadata": {},
   "outputs": [],
   "source": [
    "df_3.loc[df_3['G'].isnull()==True,'G']=df_3['C']"
   ]
  },
  {
   "cell_type": "code",
   "execution_count": 446,
   "id": "40f26c9d",
   "metadata": {},
   "outputs": [],
   "source": [
    "df_3.loc[df_3['G'].isnull()==True,'G']=df_3['B']"
   ]
  },
  {
   "cell_type": "code",
   "execution_count": 447,
   "id": "750f52bc",
   "metadata": {},
   "outputs": [],
   "source": [
    "df_3.loc[df_3['G'].isnull()==True,'G']=df_3['A']"
   ]
  },
  {
   "cell_type": "code",
   "execution_count": 448,
   "id": "df8cbce4",
   "metadata": {},
   "outputs": [
    {
     "name": "stdout",
     "output_type": "stream",
     "text": [
      "<class 'pandas.core.frame.DataFrame'>\n",
      "RangeIndex: 3883 entries, 0 to 3882\n",
      "Data columns (total 7 columns):\n",
      " #   Column  Non-Null Count  Dtype \n",
      "---  ------  --------------  ----- \n",
      " 0   A       3883 non-null   object\n",
      " 1   B       1858 non-null   object\n",
      " 2   C       536 non-null    object\n",
      " 3   D       115 non-null    object\n",
      " 4   E       15 non-null     object\n",
      " 5   F       1 non-null      object\n",
      " 6   G       3883 non-null   object\n",
      "dtypes: object(7)\n",
      "memory usage: 212.5+ KB\n"
     ]
    }
   ],
   "source": [
    "df_3.info()"
   ]
  },
  {
   "cell_type": "code",
   "execution_count": 450,
   "id": "934c8622",
   "metadata": {
    "scrolled": false
   },
   "outputs": [
    {
     "data": {
      "text/html": [
       "<div>\n",
       "<style scoped>\n",
       "    .dataframe tbody tr th:only-of-type {\n",
       "        vertical-align: middle;\n",
       "    }\n",
       "\n",
       "    .dataframe tbody tr th {\n",
       "        vertical-align: top;\n",
       "    }\n",
       "\n",
       "    .dataframe thead th {\n",
       "        text-align: right;\n",
       "    }\n",
       "</style>\n",
       "<table border=\"1\" class=\"dataframe\">\n",
       "  <thead>\n",
       "    <tr style=\"text-align: right;\">\n",
       "      <th></th>\n",
       "      <th>A</th>\n",
       "      <th>B</th>\n",
       "      <th>C</th>\n",
       "      <th>D</th>\n",
       "      <th>E</th>\n",
       "      <th>F</th>\n",
       "      <th>G</th>\n",
       "    </tr>\n",
       "  </thead>\n",
       "  <tbody>\n",
       "    <tr>\n",
       "      <th>0</th>\n",
       "      <td>Animation</td>\n",
       "      <td>Childrens</td>\n",
       "      <td>Comedy</td>\n",
       "      <td>None</td>\n",
       "      <td>None</td>\n",
       "      <td>None</td>\n",
       "      <td>Comedy</td>\n",
       "    </tr>\n",
       "    <tr>\n",
       "      <th>1</th>\n",
       "      <td>Adventure</td>\n",
       "      <td>Childrens</td>\n",
       "      <td>Fantasy</td>\n",
       "      <td>None</td>\n",
       "      <td>None</td>\n",
       "      <td>None</td>\n",
       "      <td>Fantasy</td>\n",
       "    </tr>\n",
       "    <tr>\n",
       "      <th>2</th>\n",
       "      <td>Comedy</td>\n",
       "      <td>Romance</td>\n",
       "      <td>None</td>\n",
       "      <td>None</td>\n",
       "      <td>None</td>\n",
       "      <td>None</td>\n",
       "      <td>Romance</td>\n",
       "    </tr>\n",
       "    <tr>\n",
       "      <th>3</th>\n",
       "      <td>Comedy</td>\n",
       "      <td>Drama</td>\n",
       "      <td>None</td>\n",
       "      <td>None</td>\n",
       "      <td>None</td>\n",
       "      <td>None</td>\n",
       "      <td>Drama</td>\n",
       "    </tr>\n",
       "    <tr>\n",
       "      <th>4</th>\n",
       "      <td>Comedy</td>\n",
       "      <td>None</td>\n",
       "      <td>None</td>\n",
       "      <td>None</td>\n",
       "      <td>None</td>\n",
       "      <td>None</td>\n",
       "      <td>Comedy</td>\n",
       "    </tr>\n",
       "  </tbody>\n",
       "</table>\n",
       "</div>"
      ],
      "text/plain": [
       "           A          B        C     D     E     F        G\n",
       "0  Animation  Childrens   Comedy  None  None  None   Comedy\n",
       "1  Adventure  Childrens  Fantasy  None  None  None  Fantasy\n",
       "2     Comedy    Romance     None  None  None  None  Romance\n",
       "3     Comedy      Drama     None  None  None  None    Drama\n",
       "4     Comedy       None     None  None  None  None   Comedy"
      ]
     },
     "execution_count": 450,
     "metadata": {},
     "output_type": "execute_result"
    }
   ],
   "source": [
    "df_3.head()"
   ]
  },
  {
   "cell_type": "code",
   "execution_count": 451,
   "id": "c1f6cbcc",
   "metadata": {
    "scrolled": true
   },
   "outputs": [
    {
     "data": {
      "text/plain": [
       "Drama          1151\n",
       "Comedy          625\n",
       "Thriller        483\n",
       "Romance         410\n",
       "Horror          235\n",
       "Sci-Fi          197\n",
       "War             142\n",
       "Documentary     120\n",
       "Musical          92\n",
       "Childrens        76\n",
       "Western          68\n",
       "Action           65\n",
       "Crime            60\n",
       "Mystery          49\n",
       "Fantasy          46\n",
       "Adventure        42\n",
       "Film-Noir        19\n",
       "Animation         3\n",
       "Name: G, dtype: int64"
      ]
     },
     "execution_count": 451,
     "metadata": {},
     "output_type": "execute_result"
    }
   ],
   "source": [
    "df_3['G'].value_counts()"
   ]
  },
  {
   "cell_type": "code",
   "execution_count": 454,
   "id": "a91872e9",
   "metadata": {
    "scrolled": false
   },
   "outputs": [
    {
     "data": {
      "text/html": [
       "<div>\n",
       "<style scoped>\n",
       "    .dataframe tbody tr th:only-of-type {\n",
       "        vertical-align: middle;\n",
       "    }\n",
       "\n",
       "    .dataframe tbody tr th {\n",
       "        vertical-align: top;\n",
       "    }\n",
       "\n",
       "    .dataframe thead th {\n",
       "        text-align: right;\n",
       "    }\n",
       "</style>\n",
       "<table border=\"1\" class=\"dataframe\">\n",
       "  <thead>\n",
       "    <tr style=\"text-align: right;\">\n",
       "      <th></th>\n",
       "      <th>Movie_genre</th>\n",
       "    </tr>\n",
       "  </thead>\n",
       "  <tbody>\n",
       "    <tr>\n",
       "      <th>0</th>\n",
       "      <td>Comedy</td>\n",
       "    </tr>\n",
       "    <tr>\n",
       "      <th>1</th>\n",
       "      <td>Fantasy</td>\n",
       "    </tr>\n",
       "    <tr>\n",
       "      <th>2</th>\n",
       "      <td>Romance</td>\n",
       "    </tr>\n",
       "    <tr>\n",
       "      <th>3</th>\n",
       "      <td>Drama</td>\n",
       "    </tr>\n",
       "    <tr>\n",
       "      <th>4</th>\n",
       "      <td>Comedy</td>\n",
       "    </tr>\n",
       "    <tr>\n",
       "      <th>...</th>\n",
       "      <td>...</td>\n",
       "    </tr>\n",
       "    <tr>\n",
       "      <th>3878</th>\n",
       "      <td>Comedy</td>\n",
       "    </tr>\n",
       "    <tr>\n",
       "      <th>3879</th>\n",
       "      <td>Drama</td>\n",
       "    </tr>\n",
       "    <tr>\n",
       "      <th>3880</th>\n",
       "      <td>Drama</td>\n",
       "    </tr>\n",
       "    <tr>\n",
       "      <th>3881</th>\n",
       "      <td>Drama</td>\n",
       "    </tr>\n",
       "    <tr>\n",
       "      <th>3882</th>\n",
       "      <td>Thriller</td>\n",
       "    </tr>\n",
       "  </tbody>\n",
       "</table>\n",
       "<p>3883 rows × 1 columns</p>\n",
       "</div>"
      ],
      "text/plain": [
       "     Movie_genre\n",
       "0         Comedy\n",
       "1        Fantasy\n",
       "2        Romance\n",
       "3          Drama\n",
       "4         Comedy\n",
       "...          ...\n",
       "3878      Comedy\n",
       "3879       Drama\n",
       "3880       Drama\n",
       "3881       Drama\n",
       "3882    Thriller\n",
       "\n",
       "[3883 rows x 1 columns]"
      ]
     },
     "execution_count": 454,
     "metadata": {},
     "output_type": "execute_result"
    }
   ],
   "source": [
    "df_4=df_3.reindex(\n",
    "    columns=['G']).rename(\n",
    "    columns={'G':'Movie_genre'})\n",
    "df_4"
   ]
  },
  {
   "cell_type": "markdown",
   "id": "24e3cde2",
   "metadata": {},
   "source": [
    "## <span style=color:darkgreen>CREAMOS EL NUEVO DATAFRAME MOVIES</span>"
   ]
  },
  {
   "cell_type": "code",
   "execution_count": 458,
   "id": "c428e548",
   "metadata": {},
   "outputs": [
    {
     "data": {
      "text/html": [
       "<div>\n",
       "<style scoped>\n",
       "    .dataframe tbody tr th:only-of-type {\n",
       "        vertical-align: middle;\n",
       "    }\n",
       "\n",
       "    .dataframe tbody tr th {\n",
       "        vertical-align: top;\n",
       "    }\n",
       "\n",
       "    .dataframe thead th {\n",
       "        text-align: right;\n",
       "    }\n",
       "</style>\n",
       "<table border=\"1\" class=\"dataframe\">\n",
       "  <thead>\n",
       "    <tr style=\"text-align: right;\">\n",
       "      <th></th>\n",
       "      <th>Year</th>\n",
       "      <th>Movie</th>\n",
       "    </tr>\n",
       "  </thead>\n",
       "  <tbody>\n",
       "    <tr>\n",
       "      <th>0</th>\n",
       "      <td>1995</td>\n",
       "      <td>Toy Story</td>\n",
       "    </tr>\n",
       "    <tr>\n",
       "      <th>1</th>\n",
       "      <td>1995</td>\n",
       "      <td>Jumanji</td>\n",
       "    </tr>\n",
       "    <tr>\n",
       "      <th>2</th>\n",
       "      <td>1995</td>\n",
       "      <td>Grumpier Old Men</td>\n",
       "    </tr>\n",
       "    <tr>\n",
       "      <th>3</th>\n",
       "      <td>1995</td>\n",
       "      <td>Waiting to Exhale</td>\n",
       "    </tr>\n",
       "    <tr>\n",
       "      <th>4</th>\n",
       "      <td>1995</td>\n",
       "      <td>Father of the Bride Part II</td>\n",
       "    </tr>\n",
       "  </tbody>\n",
       "</table>\n",
       "</div>"
      ],
      "text/plain": [
       "   Year                         Movie\n",
       "0  1995                    Toy Story \n",
       "1  1995                      Jumanji \n",
       "2  1995             Grumpier Old Men \n",
       "3  1995            Waiting to Exhale \n",
       "4  1995  Father of the Bride Part II "
      ]
     },
     "execution_count": 458,
     "metadata": {},
     "output_type": "execute_result"
    }
   ],
   "source": [
    "df_5=pd.merge(df_1,df_2,left_index=True, right_index=True)\n",
    "df_5.head()"
   ]
  },
  {
   "cell_type": "code",
   "execution_count": 459,
   "id": "618c18e4",
   "metadata": {
    "scrolled": false
   },
   "outputs": [
    {
     "data": {
      "text/html": [
       "<div>\n",
       "<style scoped>\n",
       "    .dataframe tbody tr th:only-of-type {\n",
       "        vertical-align: middle;\n",
       "    }\n",
       "\n",
       "    .dataframe tbody tr th {\n",
       "        vertical-align: top;\n",
       "    }\n",
       "\n",
       "    .dataframe thead th {\n",
       "        text-align: right;\n",
       "    }\n",
       "</style>\n",
       "<table border=\"1\" class=\"dataframe\">\n",
       "  <thead>\n",
       "    <tr style=\"text-align: right;\">\n",
       "      <th></th>\n",
       "      <th>Year</th>\n",
       "      <th>Movie</th>\n",
       "      <th>Movie_genre</th>\n",
       "    </tr>\n",
       "  </thead>\n",
       "  <tbody>\n",
       "    <tr>\n",
       "      <th>0</th>\n",
       "      <td>1995</td>\n",
       "      <td>Toy Story</td>\n",
       "      <td>Comedy</td>\n",
       "    </tr>\n",
       "    <tr>\n",
       "      <th>1</th>\n",
       "      <td>1995</td>\n",
       "      <td>Jumanji</td>\n",
       "      <td>Fantasy</td>\n",
       "    </tr>\n",
       "    <tr>\n",
       "      <th>2</th>\n",
       "      <td>1995</td>\n",
       "      <td>Grumpier Old Men</td>\n",
       "      <td>Romance</td>\n",
       "    </tr>\n",
       "    <tr>\n",
       "      <th>3</th>\n",
       "      <td>1995</td>\n",
       "      <td>Waiting to Exhale</td>\n",
       "      <td>Drama</td>\n",
       "    </tr>\n",
       "    <tr>\n",
       "      <th>4</th>\n",
       "      <td>1995</td>\n",
       "      <td>Father of the Bride Part II</td>\n",
       "      <td>Comedy</td>\n",
       "    </tr>\n",
       "  </tbody>\n",
       "</table>\n",
       "</div>"
      ],
      "text/plain": [
       "   Year                         Movie Movie_genre\n",
       "0  1995                    Toy Story       Comedy\n",
       "1  1995                      Jumanji      Fantasy\n",
       "2  1995             Grumpier Old Men      Romance\n",
       "3  1995            Waiting to Exhale        Drama\n",
       "4  1995  Father of the Bride Part II       Comedy"
      ]
     },
     "execution_count": 459,
     "metadata": {},
     "output_type": "execute_result"
    }
   ],
   "source": [
    "movies=pd.merge(df_5,df_4,left_index=True, right_index=True)\n",
    "movies.head()"
   ]
  },
  {
   "cell_type": "code",
   "execution_count": 460,
   "id": "bbafe379",
   "metadata": {
    "scrolled": true
   },
   "outputs": [
    {
     "name": "stdout",
     "output_type": "stream",
     "text": [
      "<class 'pandas.core.frame.DataFrame'>\n",
      "RangeIndex: 3883 entries, 0 to 3882\n",
      "Data columns (total 3 columns):\n",
      " #   Column       Non-Null Count  Dtype \n",
      "---  ------       --------------  ----- \n",
      " 0   Year         3883 non-null   object\n",
      " 1   Movie        3883 non-null   object\n",
      " 2   Movie_genre  3883 non-null   object\n",
      "dtypes: object(3)\n",
      "memory usage: 91.1+ KB\n"
     ]
    }
   ],
   "source": [
    "movies.info()"
   ]
  },
  {
   "cell_type": "markdown",
   "id": "41cdfd9c",
   "metadata": {},
   "source": [
    "Convertimos la variable Year a numérica"
   ]
  },
  {
   "cell_type": "code",
   "execution_count": 489,
   "id": "c6f4c1dc",
   "metadata": {
    "scrolled": false
   },
   "outputs": [
    {
     "name": "stdout",
     "output_type": "stream",
     "text": [
      "<class 'pandas.core.frame.DataFrame'>\n",
      "RangeIndex: 3883 entries, 0 to 3882\n",
      "Data columns (total 3 columns):\n",
      " #   Column       Non-Null Count  Dtype \n",
      "---  ------       --------------  ----- \n",
      " 0   Year         3883 non-null   int64 \n",
      " 1   Movie        3883 non-null   object\n",
      " 2   Movie_genre  3883 non-null   object\n",
      "dtypes: int64(1), object(2)\n",
      "memory usage: 91.1+ KB\n"
     ]
    }
   ],
   "source": [
    "movies['Year']=movies['Year'].astype('int')\n",
    "movies.info()"
   ]
  },
  {
   "cell_type": "code",
   "execution_count": 491,
   "id": "fcd4ac49",
   "metadata": {},
   "outputs": [
    {
     "data": {
      "text/plain": [
       "Hamlet                                        5\n",
       "Mummy The                                     3\n",
       "Ballad of Narayama The (Narayama Bushiko)     2\n",
       "Dracula                                       2\n",
       "101 Dalmatians                                2\n",
       "                                             ..\n",
       "Breathing Room                                1\n",
       "Paris Was a Woman                             1\n",
       "Anna                                          1\n",
       "Im Not Rappaport                              1\n",
       "Contender The                                 1\n",
       "Name: Movie, Length: 3841, dtype: int64"
      ]
     },
     "execution_count": 491,
     "metadata": {},
     "output_type": "execute_result"
    }
   ],
   "source": [
    "movies['Movie'].value_counts()"
   ]
  },
  {
   "cell_type": "code",
   "execution_count": 492,
   "id": "f44de7bd",
   "metadata": {
    "scrolled": true
   },
   "outputs": [
    {
     "data": {
      "text/html": [
       "<div>\n",
       "<style scoped>\n",
       "    .dataframe tbody tr th:only-of-type {\n",
       "        vertical-align: middle;\n",
       "    }\n",
       "\n",
       "    .dataframe tbody tr th {\n",
       "        vertical-align: top;\n",
       "    }\n",
       "\n",
       "    .dataframe thead th {\n",
       "        text-align: right;\n",
       "    }\n",
       "</style>\n",
       "<table border=\"1\" class=\"dataframe\">\n",
       "  <thead>\n",
       "    <tr style=\"text-align: right;\">\n",
       "      <th></th>\n",
       "      <th>Year</th>\n",
       "      <th>Movie</th>\n",
       "      <th>Movie_genre</th>\n",
       "    </tr>\n",
       "  </thead>\n",
       "  <tbody>\n",
       "    <tr>\n",
       "      <th>1388</th>\n",
       "      <td>1996</td>\n",
       "      <td>Hamlet</td>\n",
       "      <td>Drama</td>\n",
       "    </tr>\n",
       "    <tr>\n",
       "      <th>1872</th>\n",
       "      <td>1948</td>\n",
       "      <td>Hamlet</td>\n",
       "      <td>Drama</td>\n",
       "    </tr>\n",
       "    <tr>\n",
       "      <th>2751</th>\n",
       "      <td>1964</td>\n",
       "      <td>Hamlet</td>\n",
       "      <td>Drama</td>\n",
       "    </tr>\n",
       "    <tr>\n",
       "      <th>3529</th>\n",
       "      <td>2000</td>\n",
       "      <td>Hamlet</td>\n",
       "      <td>Drama</td>\n",
       "    </tr>\n",
       "    <tr>\n",
       "      <th>3654</th>\n",
       "      <td>1990</td>\n",
       "      <td>Hamlet</td>\n",
       "      <td>Drama</td>\n",
       "    </tr>\n",
       "  </tbody>\n",
       "</table>\n",
       "</div>"
      ],
      "text/plain": [
       "      Year    Movie Movie_genre\n",
       "1388  1996  Hamlet        Drama\n",
       "1872  1948  Hamlet        Drama\n",
       "2751  1964  Hamlet        Drama\n",
       "3529  2000  Hamlet        Drama\n",
       "3654  1990  Hamlet        Drama"
      ]
     },
     "execution_count": 492,
     "metadata": {},
     "output_type": "execute_result"
    }
   ],
   "source": [
    "movies[movies['Movie']=='Hamlet ']"
   ]
  },
  {
   "cell_type": "markdown",
   "id": "df4f7265",
   "metadata": {},
   "source": [
    "Vemos que pueden haber varias películas con el mismo título, pero se corresponden a años diferentes así que no se tratan de valores duplicados."
   ]
  },
  {
   "cell_type": "markdown",
   "id": "fedf7050",
   "metadata": {},
   "source": [
    "# <SPAN style=color:darkblue>EXERCICI 3</SPAN>\n",
    "# <SPAN style=color:darkblue>ANALISIS ESTADISTICO Y GRÁFICO DEL DATASET MOVIES.DAT</SPAN>"
   ]
  },
  {
   "cell_type": "code",
   "execution_count": 463,
   "id": "59067e24",
   "metadata": {
    "scrolled": true
   },
   "outputs": [
    {
     "data": {
      "text/html": [
       "<div>\n",
       "<style scoped>\n",
       "    .dataframe tbody tr th:only-of-type {\n",
       "        vertical-align: middle;\n",
       "    }\n",
       "\n",
       "    .dataframe tbody tr th {\n",
       "        vertical-align: top;\n",
       "    }\n",
       "\n",
       "    .dataframe thead th {\n",
       "        text-align: right;\n",
       "    }\n",
       "</style>\n",
       "<table border=\"1\" class=\"dataframe\">\n",
       "  <thead>\n",
       "    <tr style=\"text-align: right;\">\n",
       "      <th></th>\n",
       "      <th>Year</th>\n",
       "      <th>Movie</th>\n",
       "      <th>Movie_genre</th>\n",
       "    </tr>\n",
       "  </thead>\n",
       "  <tbody>\n",
       "    <tr>\n",
       "      <th>count</th>\n",
       "      <td>3883.000000</td>\n",
       "      <td>3883</td>\n",
       "      <td>3883</td>\n",
       "    </tr>\n",
       "    <tr>\n",
       "      <th>unique</th>\n",
       "      <td>NaN</td>\n",
       "      <td>3841</td>\n",
       "      <td>18</td>\n",
       "    </tr>\n",
       "    <tr>\n",
       "      <th>top</th>\n",
       "      <td>NaN</td>\n",
       "      <td>Hamlet</td>\n",
       "      <td>Drama</td>\n",
       "    </tr>\n",
       "    <tr>\n",
       "      <th>freq</th>\n",
       "      <td>NaN</td>\n",
       "      <td>5</td>\n",
       "      <td>1151</td>\n",
       "    </tr>\n",
       "    <tr>\n",
       "      <th>mean</th>\n",
       "      <td>1986.066959</td>\n",
       "      <td>NaN</td>\n",
       "      <td>NaN</td>\n",
       "    </tr>\n",
       "    <tr>\n",
       "      <th>std</th>\n",
       "      <td>16.895690</td>\n",
       "      <td>NaN</td>\n",
       "      <td>NaN</td>\n",
       "    </tr>\n",
       "    <tr>\n",
       "      <th>min</th>\n",
       "      <td>1919.000000</td>\n",
       "      <td>NaN</td>\n",
       "      <td>NaN</td>\n",
       "    </tr>\n",
       "    <tr>\n",
       "      <th>25%</th>\n",
       "      <td>1982.000000</td>\n",
       "      <td>NaN</td>\n",
       "      <td>NaN</td>\n",
       "    </tr>\n",
       "    <tr>\n",
       "      <th>50%</th>\n",
       "      <td>1994.000000</td>\n",
       "      <td>NaN</td>\n",
       "      <td>NaN</td>\n",
       "    </tr>\n",
       "    <tr>\n",
       "      <th>75%</th>\n",
       "      <td>1997.000000</td>\n",
       "      <td>NaN</td>\n",
       "      <td>NaN</td>\n",
       "    </tr>\n",
       "    <tr>\n",
       "      <th>max</th>\n",
       "      <td>2000.000000</td>\n",
       "      <td>NaN</td>\n",
       "      <td>NaN</td>\n",
       "    </tr>\n",
       "  </tbody>\n",
       "</table>\n",
       "</div>"
      ],
      "text/plain": [
       "               Year    Movie Movie_genre\n",
       "count   3883.000000     3883        3883\n",
       "unique          NaN     3841          18\n",
       "top             NaN  Hamlet        Drama\n",
       "freq            NaN        5        1151\n",
       "mean    1986.066959      NaN         NaN\n",
       "std       16.895690      NaN         NaN\n",
       "min     1919.000000      NaN         NaN\n",
       "25%     1982.000000      NaN         NaN\n",
       "50%     1994.000000      NaN         NaN\n",
       "75%     1997.000000      NaN         NaN\n",
       "max     2000.000000      NaN         NaN"
      ]
     },
     "execution_count": 463,
     "metadata": {},
     "output_type": "execute_result"
    }
   ],
   "source": [
    "movies.describe(include='all')"
   ]
  },
  {
   "cell_type": "markdown",
   "id": "3a54e75d",
   "metadata": {},
   "source": [
    "## <span style=color:darkgreen>DESCRIPCION DEL DATASET</span>"
   ]
  },
  {
   "cell_type": "markdown",
   "id": "71a94682",
   "metadata": {},
   "source": [
    "\n",
    "Se trata de una base de datos que clasifica una serie de películas por género hasta el año 2000 incluido.  \n",
    "Por el tamaño de la muestra, podemos intuir que se trata de una clasificación por género de unas peliculas premiadas, o candidatas a un premio por cada año, o más taquilleras...pero no disponemos de esta información.\n",
    "\n",
    "#### Variables\n",
    "-Any : El año hasta el 2000   \n",
    "-Movie : El título de la película en inglés    \n",
    "-Movie_Genre : El género de la película (18) \n",
    "\n",
    "#### Datos relevantes\n",
    "-Aunque disponemos de información desde principios del siglo XX, es relevante constatar que el 50% de los datos se concentran en los últimos 6 años antes del 2000, desde el 1994 (la mediana).  \n",
    "-La desviación standard es de 17 años, es decir, los datos están muy concentrados alrededor de la media."
   ]
  },
  {
   "cell_type": "markdown",
   "id": "a3334dbb",
   "metadata": {},
   "source": [
    "## <span style=color:darkgreen>PELICULAS POR AÑO</span>"
   ]
  },
  {
   "cell_type": "code",
   "execution_count": 523,
   "id": "2926ec9d",
   "metadata": {
    "scrolled": false
   },
   "outputs": [
    {
     "data": {
      "text/plain": [
       "<function matplotlib.pyplot.show(close=None, block=None)>"
      ]
     },
     "execution_count": 523,
     "metadata": {},
     "output_type": "execute_result"
    },
    {
     "data": {
      "image/png": "[encoded data removed]",
      "text/plain": [
       "<Figure size 640x480 with 1 Axes>"
      ]
     },
     "metadata": {},
     "output_type": "display_data"
    }
   ],
   "source": [
    "plt.rcParams['figure.autolayout']=True\n",
    "customs_params={'axes.spines.right':False,'axes.spines.top':False,}\n",
    "sns.set_theme(style='ticks',rc=customs_params)\n",
    "\n",
    "plt.hist(movies['Year'],bins=[ 1910,1920,1930,1940,1950,1960,1970,1980,1990,2000])\n",
    "  \n",
    "plt.xticks(np.arange(1900,2000,10))\n",
    "plt.xlabel('Year',fontweight='bold')\n",
    "plt.ylabel('Number of Movies',fontweight='bold')\n",
    "plt.title('Número de películas por año siglo XX',fontweight='bold')\n",
    "plt.grid(axis='y')\n",
    "plt.show"
   ]
  },
  {
   "cell_type": "markdown",
   "id": "1df23af4",
   "metadata": {},
   "source": [
    "Se trata de una distribución asimétrica con una gran concentración de datos en la parte derecha de la gráfica, a finales del siglo XX.\n",
    "\n",
    "La tendencia es de crecimiento exponencial desde principios de siglo. "
   ]
  },
  {
   "cell_type": "code",
   "execution_count": 565,
   "id": "065538cb",
   "metadata": {
    "scrolled": false
   },
   "outputs": [
    {
     "data": {
      "text/plain": [
       "<function matplotlib.pyplot.show(close=None, block=None)>"
      ]
     },
     "execution_count": 565,
     "metadata": {},
     "output_type": "execute_result"
    },
    {
     "data": {
      "image/png": "[encoded data removed]",
      "text/plain": [
       "<Figure size 640x480 with 1 Axes>"
      ]
     },
     "metadata": {},
     "output_type": "display_data"
    }
   ],
   "source": [
    "#plt.rcParams['figure.autolayout']=True\n",
    "customs_params={'axes.spines.right':False,'axes.spines.top':False,}\n",
    "sns.set_theme(style='ticks',rc=customs_params)\n",
    "\n",
    "\n",
    "sns.histplot(data=movies[movies.Year>1979],x='Year', bins=21,discrete=True)\n",
    "\n",
    "plt.xticks(np.arange(1980,2001))\n",
    "plt.xlabel('Year',fontweight='bold')\n",
    "plt.xticks(rotation=60)\n",
    "plt.yticks(np.arange(0,500,50))\n",
    "plt.ylabel('Number of Movies',fontweight='bold')\n",
    "plt.title('Número de películas por año desde 1980',fontweight='bold')\n",
    "plt.grid(axis='y')\n",
    "plt.show"
   ]
  },
  {
   "cell_type": "markdown",
   "id": "2edc4b9b",
   "metadata": {},
   "source": [
    "Este análisis más detallado de los últimos 20 años poner de relieve que el año con más películas de la historia fue el año 1996 con 345 películas (la moda de la muestra), a partir de entonces se nota una reducción progresiva del número de películas."
   ]
  },
  {
   "cell_type": "markdown",
   "id": "22b8db7d",
   "metadata": {},
   "source": [
    "## <span style=color:darkgreen>PELICULAS POR GENERO</span>"
   ]
  },
  {
   "cell_type": "code",
   "execution_count": 590,
   "id": "f2a88af7",
   "metadata": {
    "scrolled": false
   },
   "outputs": [
    {
     "data": {
      "text/plain": [
       "<function matplotlib.pyplot.show(close=None, block=None)>"
      ]
     },
     "execution_count": 590,
     "metadata": {},
     "output_type": "execute_result"
    },
    {
     "data": {
      "image/png": "[encoded data removed]",
      "text/plain": [
       "<Figure size 640x480 with 1 Axes>"
      ]
     },
     "metadata": {},
     "output_type": "display_data"
    }
   ],
   "source": [
    "plt.rcParams['figure.autolayout']=True\n",
    "customs_params={'axes.spines.right':False,'axes.spines.top':False,}\n",
    "sns.set_theme(style='ticks',rc=customs_params)\n",
    "\n",
    "\n",
    "sns.countplot(data=movies,x='Movie_genre',order = movies['Movie_genre'].value_counts().index)\n",
    "\n",
    "\n",
    "plt.xlabel('Genre',fontweight='bold')\n",
    "plt.xticks(rotation=60)\n",
    "plt.ylabel('Number of Movies',fontweight='bold')\n",
    "plt.title('Número de peliculas por género siglo XX',fontweight='bold')\n",
    "plt.grid(axis='y')\n",
    "plt.show"
   ]
  },
  {
   "cell_type": "markdown",
   "id": "0930e974",
   "metadata": {},
   "source": [
    "Esta gráfica pone de relieve que existe una gran concentración de peliculas en los 4 primeros géneros (Drama, Comedy, Thriller y Romance), que representan cerca del 70% del total de películas"
   ]
  },
  {
   "cell_type": "code",
   "execution_count": 579,
   "id": "aa551c5b",
   "metadata": {
    "scrolled": true
   },
   "outputs": [
    {
     "data": {
      "text/plain": [
       "Drama          1151\n",
       "Comedy          625\n",
       "Thriller        483\n",
       "Romance         410\n",
       "Horror          235\n",
       "Sci-Fi          197\n",
       "War             142\n",
       "Documentary     120\n",
       "Musical          92\n",
       "Childrens        76\n",
       "Western          68\n",
       "Action           65\n",
       "Crime            60\n",
       "Mystery          49\n",
       "Fantasy          46\n",
       "Adventure        42\n",
       "Film-Noir        19\n",
       "Animation         3\n",
       "Name: Movie_genre, dtype: int64"
      ]
     },
     "execution_count": 579,
     "metadata": {},
     "output_type": "execute_result"
    }
   ],
   "source": [
    "movies['Movie_genre'].value_counts()"
   ]
  },
  {
   "cell_type": "markdown",
   "id": "c7f7e6ef",
   "metadata": {},
   "source": [
    "## <span style=color:darkgreen>PELICULAS POR GENERO Y AÑO</span>"
   ]
  },
  {
   "cell_type": "code",
   "execution_count": 594,
   "id": "ea5562a0",
   "metadata": {
    "scrolled": false
   },
   "outputs": [
    {
     "data": {
      "text/plain": [
       "<seaborn.axisgrid.FacetGrid at 0x7fe3a0852310>"
      ]
     },
     "execution_count": 594,
     "metadata": {},
     "output_type": "execute_result"
    },
    {
     "data": {
      "image/png": "[encoded data removed]",
      "text/plain": [
       "<Figure size 3000x1500 with 18 Axes>"
      ]
     },
     "metadata": {},
     "output_type": "display_data"
    }
   ],
   "source": [
    "sns.displot(data=movies[movies.Year>1979], x=\"Year\",col='Movie_genre',col_wrap=6)"
   ]
  },
  {
   "cell_type": "markdown",
   "id": "36c7749c",
   "metadata": {},
   "source": [
    "A través de estas gráficas, podemos observar que la evolución a la baja desde el 1996 no se debe a una categoría en particular, sino que todas siguen la misma tendencia."
   ]
  },
  {
   "cell_type": "code",
   "execution_count": null,
   "id": "4224f806",
   "metadata": {},
   "outputs": [],
   "source": []
  },
  {
   "cell_type": "code",
   "execution_count": null,
   "id": "0e93445e",
   "metadata": {},
   "outputs": [],
   "source": []
  }
 ],
 "metadata": {
  "kernelspec": {
   "display_name": "Python 3 (ipykernel)",
   "language": "python",
   "name": "python3"
  },
  "language_info": {
   "codemirror_mode": {
    "name": "ipython",
    "version": 3
   },
   "file_extension": ".py",
   "mimetype": "text/x-python",
   "name": "python",
   "nbconvert_exporter": "python",
   "pygments_lexer": "ipython3",
   "version": "3.9.13"
  }
 },
 "nbformat": 4,
 "nbformat_minor": 5
}
